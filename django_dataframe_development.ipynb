{
 "cells": [
  {
   "cell_type": "code",
   "execution_count": 12,
   "metadata": {
    "collapsed": true
   },
   "outputs": [],
   "source": [
    "import pandas as pd\n",
    "from datetime import date, timedelta\n",
    "import math"
   ]
  },
  {
   "cell_type": "code",
   "execution_count": 13,
   "metadata": {
    "collapsed": false,
    "scrolled": true
   },
   "outputs": [],
   "source": [
    "df = pd.read_csv('mini_data.csv')\n",
    "\n",
    "df['Date'] = pd.to_datetime(df['Date']).dt.date\n",
    "\n",
    "week_prior = df['Date'].max() - timedelta(weeks=1)\n",
    "\n",
    "df_last_week = df[df['Date'] > week_prior]"
   ]
  },
  {
   "cell_type": "code",
   "execution_count": 15,
   "metadata": {
    "collapsed": true
   },
   "outputs": [],
   "source": [
    "pivoted = df_last_week.pivot(index='Player', columns='Date', values='Seconds')"
   ]
  },
  {
   "cell_type": "code",
   "execution_count": 16,
   "metadata": {
    "collapsed": true
   },
   "outputs": [],
   "source": [
    "pivoted_median = pivoted.copy()"
   ]
  },
  {
   "cell_type": "code",
   "execution_count": 17,
   "metadata": {
    "collapsed": true
   },
   "outputs": [],
   "source": [
    "pivoted_median['Median last Week'] = pivoted_median.median(numeric_only=True, axis = 1)"
   ]
  },
  {
   "cell_type": "code",
   "execution_count": 18,
   "metadata": {
    "collapsed": false,
    "scrolled": false
   },
   "outputs": [
    {
     "data": {
      "text/plain": [
       "'Seibert'"
      ]
     },
     "execution_count": 18,
     "metadata": {},
     "output_type": "execute_result"
    }
   ],
   "source": [
    "pivoted_median[pivoted_median['Median last Week']==pivoted_median['Median last Week'].min()].index[0]"
   ]
  },
  {
   "cell_type": "code",
   "execution_count": 19,
   "metadata": {
    "collapsed": false
   },
   "outputs": [
    {
     "data": {
      "text/html": [
       "<div>\n",
       "<style scoped>\n",
       "    .dataframe tbody tr th:only-of-type {\n",
       "        vertical-align: middle;\n",
       "    }\n",
       "\n",
       "    .dataframe tbody tr th {\n",
       "        vertical-align: top;\n",
       "    }\n",
       "\n",
       "    .dataframe thead th {\n",
       "        text-align: right;\n",
       "    }\n",
       "</style>\n",
       "<table border=\"1\" class=\"dataframe\">\n",
       "  <thead>\n",
       "    <tr style=\"text-align: right;\">\n",
       "      <th>Date</th>\n",
       "      <th>2022-07-11</th>\n",
       "      <th>2022-07-12</th>\n",
       "      <th>2022-07-13</th>\n",
       "      <th>2022-07-14</th>\n",
       "      <th>2022-07-15</th>\n",
       "      <th>2022-07-16</th>\n",
       "      <th>2022-07-17</th>\n",
       "      <th>2022-07-18</th>\n",
       "      <th>Median last Week</th>\n",
       "    </tr>\n",
       "    <tr>\n",
       "      <th>Player</th>\n",
       "      <th></th>\n",
       "      <th></th>\n",
       "      <th></th>\n",
       "      <th></th>\n",
       "      <th></th>\n",
       "      <th></th>\n",
       "      <th></th>\n",
       "      <th></th>\n",
       "      <th></th>\n",
       "    </tr>\n",
       "  </thead>\n",
       "  <tbody>\n",
       "    <tr>\n",
       "      <th>E-thousand</th>\n",
       "      <td>NaN</td>\n",
       "      <td>NaN</td>\n",
       "      <td>186.0</td>\n",
       "      <td>NaN</td>\n",
       "      <td>65.0</td>\n",
       "      <td>172.0</td>\n",
       "      <td>65.0</td>\n",
       "      <td>123.0</td>\n",
       "      <td>123.0</td>\n",
       "    </tr>\n",
       "    <tr>\n",
       "      <th>Joshtreg</th>\n",
       "      <td>53.0</td>\n",
       "      <td>153.0</td>\n",
       "      <td>40.0</td>\n",
       "      <td>145.0</td>\n",
       "      <td>52.0</td>\n",
       "      <td>153.0</td>\n",
       "      <td>70.0</td>\n",
       "      <td>99.0</td>\n",
       "      <td>84.5</td>\n",
       "    </tr>\n",
       "    <tr>\n",
       "      <th>Seibert</th>\n",
       "      <td>41.0</td>\n",
       "      <td>38.0</td>\n",
       "      <td>30.0</td>\n",
       "      <td>42.0</td>\n",
       "      <td>28.0</td>\n",
       "      <td>76.0</td>\n",
       "      <td>14.0</td>\n",
       "      <td>45.0</td>\n",
       "      <td>39.5</td>\n",
       "    </tr>\n",
       "    <tr>\n",
       "      <th>dirk orozco</th>\n",
       "      <td>81.0</td>\n",
       "      <td>46.0</td>\n",
       "      <td>43.0</td>\n",
       "      <td>104.0</td>\n",
       "      <td>57.0</td>\n",
       "      <td>98.0</td>\n",
       "      <td>32.0</td>\n",
       "      <td>41.0</td>\n",
       "      <td>51.5</td>\n",
       "    </tr>\n",
       "  </tbody>\n",
       "</table>\n",
       "</div>"
      ],
      "text/plain": [
       "Date         2022-07-11  2022-07-12  2022-07-13  2022-07-14  2022-07-15  \\\n",
       "Player                                                                    \n",
       "E-thousand          NaN         NaN       186.0         NaN        65.0   \n",
       "Joshtreg           53.0       153.0        40.0       145.0        52.0   \n",
       "Seibert            41.0        38.0        30.0        42.0        28.0   \n",
       "dirk orozco        81.0        46.0        43.0       104.0        57.0   \n",
       "\n",
       "Date         2022-07-16  2022-07-17  2022-07-18  Median last Week  \n",
       "Player                                                             \n",
       "E-thousand        172.0        65.0       123.0             123.0  \n",
       "Joshtreg          153.0        70.0        99.0              84.5  \n",
       "Seibert            76.0        14.0        45.0              39.5  \n",
       "dirk orozco        98.0        32.0        41.0              51.5  "
      ]
     },
     "execution_count": 19,
     "metadata": {},
     "output_type": "execute_result"
    }
   ],
   "source": [
    "pivoted_median"
   ]
  },
  {
   "cell_type": "code",
   "execution_count": 20,
   "metadata": {
    "collapsed": false,
    "scrolled": true
   },
   "outputs": [
    {
     "data": {
      "text/plain": [
       "39.5"
      ]
     },
     "execution_count": 20,
     "metadata": {},
     "output_type": "execute_result"
    }
   ],
   "source": [
    "pivoted_median[pivoted_median.index=='Seibert']['Median last Week'][0]"
   ]
  },
  {
   "cell_type": "code",
   "execution_count": 10,
   "metadata": {
    "collapsed": false
   },
   "outputs": [
    {
     "data": {
      "text/plain": [
       "['2022-07-10',\n",
       " '2022-07-11',\n",
       " '2022-07-12',\n",
       " '2022-07-13',\n",
       " '2022-07-14',\n",
       " '2022-07-15',\n",
       " '2022-07-16',\n",
       " '2022-07-17']"
      ]
     },
     "execution_count": 10,
     "metadata": {},
     "output_type": "execute_result"
    }
   ],
   "source": [
    "date_list= []\n",
    "\n",
    "for i in df_last_week['Date'].unique().tolist():\n",
    "    date_list.append(i.strftime('%Y-%m-%d'))\n",
    "\n",
    "date_list"
   ]
  },
  {
   "cell_type": "code",
   "execution_count": 15,
   "metadata": {
    "collapsed": false
   },
   "outputs": [
    {
     "data": {
      "text/plain": [
       "[48.0, 41.0, 38.0, 30.0, 42.0, 28.0, 76.0, 14.0]"
      ]
     },
     "execution_count": 15,
     "metadata": {},
     "output_type": "execute_result"
    }
   ],
   "source": [
    "seibert_scores = []\n",
    "for i in df_last_week.loc[df['Player']=='Seibert']['Seconds']:\n",
    "    seibert_scores.append(i)\n",
    "seibert_scores"
   ]
  },
  {
   "cell_type": "code",
   "execution_count": 18,
   "metadata": {
    "collapsed": false
   },
   "outputs": [
    {
     "data": {
      "text/plain": [
       "['', '', '', 186.0, '', 65.0, 172.0, 65.0]"
      ]
     },
     "execution_count": 18,
     "metadata": {},
     "output_type": "execute_result"
    }
   ],
   "source": [
    "ellie_scores = []\n",
    "for i in df_last_week.loc[df['Player']=='E-thousand']['Seconds']:\n",
    "    if math.isnan(i):\n",
    "        i = ''\n",
    "    ellie_scores.append(i)\n",
    "ellie_scores"
   ]
  },
  {
   "cell_type": "code",
   "execution_count": null,
   "metadata": {
    "collapsed": true
   },
   "outputs": [],
   "source": []
  }
 ],
 "metadata": {
  "kernelspec": {
   "display_name": "Python 3.9",
   "language": "python",
   "name": "python3.9"
  },
  "language_info": {
   "codemirror_mode": {
    "name": "ipython",
    "version": 3
   },
   "file_extension": ".py",
   "mimetype": "text/x-python",
   "name": "python",
   "nbconvert_exporter": "python",
   "pygments_lexer": "ipython3",
   "version": "3.9.5"
  }
 },
 "nbformat": 4,
 "nbformat_minor": 0
}
